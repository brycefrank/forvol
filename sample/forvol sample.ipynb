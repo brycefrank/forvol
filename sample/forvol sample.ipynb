{
 "cells": [
  {
   "cell_type": "markdown",
   "metadata": {},
   "source": [
    "Below is an example of how to use forvol to compute cubic foot tree volumes on an example dataset.\n",
    "\n",
    "The first step is to load the library and read in some data."
   ]
  },
  {
   "cell_type": "code",
   "execution_count": 21,
   "metadata": {},
   "outputs": [],
   "source": [
    "library(forvol)\n",
    "\n",
    "# Read in 'sample.csv'\n",
    "data_set <- read.csv(\"sample.csv\")"
   ]
  },
  {
   "cell_type": "markdown",
   "metadata": {},
   "source": [
    "Now that we have some data, let's examine what the data looks like to make sure it is in a form compatible with forvol. Remember that forvol needs FIA species codes and a column describing the region of each tree to operate correctly."
   ]
  },
  {
   "cell_type": "code",
   "execution_count": 22,
   "metadata": {},
   "outputs": [
    {
     "data": {
      "text/html": [
       "<table>\n",
       "<thead><tr><th scope=col>X</th><th scope=col>SPCD</th><th scope=col>DO_BH</th><th scope=col>HT_TOT</th></tr></thead>\n",
       "<tbody>\n",
       "\t<tr><td>2176 </td><td>202  </td><td>23.0 </td><td>162.2</td></tr>\n",
       "\t<tr><td>2500 </td><td>202  </td><td>23.4 </td><td> 85.0</td></tr>\n",
       "\t<tr><td>4085 </td><td>202  </td><td> 6.2 </td><td> 56.7</td></tr>\n",
       "\t<tr><td>2041 </td><td>202  </td><td> 6.9 </td><td> 40.0</td></tr>\n",
       "\t<tr><td>6142 </td><td>202  </td><td> 9.9 </td><td> 72.6</td></tr>\n",
       "\t<tr><td>1592 </td><td>202  </td><td> 5.7 </td><td> 35.3</td></tr>\n",
       "</tbody>\n",
       "</table>\n"
      ],
      "text/latex": [
       "\\begin{tabular}{r|llll}\n",
       " X & SPCD & DO\\_BH & HT\\_TOT\\\\\n",
       "\\hline\n",
       "\t 2176  & 202   & 23.0  & 162.2\\\\\n",
       "\t 2500  & 202   & 23.4  &  85.0\\\\\n",
       "\t 4085  & 202   &  6.2  &  56.7\\\\\n",
       "\t 2041  & 202   &  6.9  &  40.0\\\\\n",
       "\t 6142  & 202   &  9.9  &  72.6\\\\\n",
       "\t 1592  & 202   &  5.7  &  35.3\\\\\n",
       "\\end{tabular}\n"
      ],
      "text/markdown": [
       "\n",
       "X | SPCD | DO_BH | HT_TOT | \n",
       "|---|---|---|---|---|---|\n",
       "| 2176  | 202   | 23.0  | 162.2 | \n",
       "| 2500  | 202   | 23.4  |  85.0 | \n",
       "| 4085  | 202   |  6.2  |  56.7 | \n",
       "| 2041  | 202   |  6.9  |  40.0 | \n",
       "| 6142  | 202   |  9.9  |  72.6 | \n",
       "| 1592  | 202   |  5.7  |  35.3 | \n",
       "\n",
       "\n"
      ],
      "text/plain": [
       "  X    SPCD DO_BH HT_TOT\n",
       "1 2176 202  23.0  162.2 \n",
       "2 2500 202  23.4   85.0 \n",
       "3 4085 202   6.2   56.7 \n",
       "4 2041 202   6.9   40.0 \n",
       "5 6142 202   9.9   72.6 \n",
       "6 1592 202   5.7   35.3 "
      ]
     },
     "metadata": {},
     "output_type": "display_data"
    }
   ],
   "source": [
    "head(data_set)"
   ]
  },
  {
   "cell_type": "markdown",
   "metadata": {},
   "source": [
    "It looks like we have species codes (SPCD), dbh (DO_BH), and ht (HT_TOT) information for each tree. That means we just need to add the FIA region to calculate the volumes. Fortunately, I know that this data came from Western Oregon, which corresponds to 'OR_W'. The next step is to add a column describing this for each record."
   ]
  },
  {
   "cell_type": "code",
   "execution_count": 24,
   "metadata": {
    "scrolled": false
   },
   "outputs": [
    {
     "data": {
      "text/html": [
       "<table>\n",
       "<thead><tr><th scope=col>X</th><th scope=col>SPCD</th><th scope=col>DO_BH</th><th scope=col>HT_TOT</th><th scope=col>region</th></tr></thead>\n",
       "<tbody>\n",
       "\t<tr><td>2176 </td><td>202  </td><td>23.0 </td><td>162.2</td><td>OR_W </td></tr>\n",
       "\t<tr><td>2500 </td><td>202  </td><td>23.4 </td><td> 85.0</td><td>OR_W </td></tr>\n",
       "\t<tr><td>4085 </td><td>202  </td><td> 6.2 </td><td> 56.7</td><td>OR_W </td></tr>\n",
       "\t<tr><td>2041 </td><td>202  </td><td> 6.9 </td><td> 40.0</td><td>OR_W </td></tr>\n",
       "\t<tr><td>6142 </td><td>202  </td><td> 9.9 </td><td> 72.6</td><td>OR_W </td></tr>\n",
       "\t<tr><td>1592 </td><td>202  </td><td> 5.7 </td><td> 35.3</td><td>OR_W </td></tr>\n",
       "</tbody>\n",
       "</table>\n"
      ],
      "text/latex": [
       "\\begin{tabular}{r|lllll}\n",
       " X & SPCD & DO\\_BH & HT\\_TOT & region\\\\\n",
       "\\hline\n",
       "\t 2176   & 202    & 23.0   & 162.2  & OR\\_W\\\\\n",
       "\t 2500   & 202    & 23.4   &  85.0  & OR\\_W\\\\\n",
       "\t 4085   & 202    &  6.2   &  56.7  & OR\\_W\\\\\n",
       "\t 2041   & 202    &  6.9   &  40.0  & OR\\_W\\\\\n",
       "\t 6142   & 202    &  9.9   &  72.6  & OR\\_W\\\\\n",
       "\t 1592   & 202    &  5.7   &  35.3  & OR\\_W\\\\\n",
       "\\end{tabular}\n"
      ],
      "text/markdown": [
       "\n",
       "X | SPCD | DO_BH | HT_TOT | region | \n",
       "|---|---|---|---|---|---|\n",
       "| 2176  | 202   | 23.0  | 162.2 | OR_W  | \n",
       "| 2500  | 202   | 23.4  |  85.0 | OR_W  | \n",
       "| 4085  | 202   |  6.2  |  56.7 | OR_W  | \n",
       "| 2041  | 202   |  6.9  |  40.0 | OR_W  | \n",
       "| 6142  | 202   |  9.9  |  72.6 | OR_W  | \n",
       "| 1592  | 202   |  5.7  |  35.3 | OR_W  | \n",
       "\n",
       "\n"
      ],
      "text/plain": [
       "  X    SPCD DO_BH HT_TOT region\n",
       "1 2176 202  23.0  162.2  OR_W  \n",
       "2 2500 202  23.4   85.0  OR_W  \n",
       "3 4085 202   6.2   56.7  OR_W  \n",
       "4 2041 202   6.9   40.0  OR_W  \n",
       "5 6142 202   9.9   72.6  OR_W  \n",
       "6 1592 202   5.7   35.3  OR_W  "
      ]
     },
     "metadata": {},
     "output_type": "display_data"
    }
   ],
   "source": [
    "data_set$region <- 'OR_W'\n",
    "\n",
    "head(data_set)"
   ]
  },
  {
   "cell_type": "markdown",
   "metadata": {},
   "source": [
    "It looks like we are on our way to calculating cubic foot volume. The last step is to call the `calc_vol()` function in forvol by specifying the columns for diameter at breast height, height, species code, region, and volume type. This will return a vector of the volumes in the dataset."
   ]
  },
  {
   "cell_type": "code",
   "execution_count": 31,
   "metadata": {
    "scrolled": false
   },
   "outputs": [
    {
     "data": {
      "text/html": [
       "100"
      ],
      "text/latex": [
       "100"
      ],
      "text/markdown": [
       "100"
      ],
      "text/plain": [
       "[1] 100"
      ]
     },
     "metadata": {},
     "output_type": "display_data"
    }
   ],
   "source": [
    "test1 <- calc_vol(data_set$DO_BH, data_set$HT_TOT, data_set$SPCD, data_set$region, \"cvts\")\n",
    "\n",
    "length(test1[[1]])\n"
   ]
  },
  {
   "cell_type": "markdown",
   "metadata": {},
   "source": [
    "The `calc_vol` function uses the FIA default equations for the input as specified in [Woodall et. al (2008)](https://www.researchgate.net/profile/Christopher_Woodall/publication/285731174_Methods_and_equations_for_estimating_volume_biomass_and_carbon_for_trees_in_the_US_Forest_inventory_2010/links/58416f6b08ae2d21756134fe/Methods-and-equations-for-estimating-volume-biomass-and-carbon-for-trees-in-the-US-Forest-inventory-2010.pdf)."
   ]
  }
 ],
 "metadata": {
  "kernelspec": {
   "display_name": "R",
   "language": "R",
   "name": "ir"
  },
  "language_info": {
   "codemirror_mode": "r",
   "file_extension": ".r",
   "mimetype": "text/x-r-source",
   "name": "R",
   "pygments_lexer": "r",
   "version": "3.4.2"
  }
 },
 "nbformat": 4,
 "nbformat_minor": 2
}
